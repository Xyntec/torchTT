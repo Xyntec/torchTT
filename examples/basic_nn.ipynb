{
 "cells": [
  {
   "cell_type": "markdown",
   "metadata": {},
   "source": [
    "TODO: continue this"
   ]
  },
  {
   "cell_type": "code",
   "execution_count": null,
   "metadata": {},
   "outputs": [],
   "source": [
    "import torch as tn\n",
    "import torch.nn as nn\n",
    "\n",
    "try:\n",
    "    import torchtt as tntt\n",
    "except:\n",
    "    print('Installing torchTT...')\n",
    "    %pip install git+https://github.com/ion-g-ion/torchTT\n",
    "    import torchtt as tntt"
   ]
  },
  {
   "cell_type": "markdown",
   "metadata": {},
   "source": [
    "$\\mathbb{R}^{16} \\times\\mathbb{R}^{16} \\times\\mathbb{R}^{16} \\times\\mathbb{R}^{16} \\underset{\\mathcal{LTT}^1}{\\longrightarrow} \\mathbb{R}^8 \\times\\mathbb{R}^8 \\times\\mathbb{R}^8 \\times\\mathbb{R}^8 \\underset{\\mathcal{LTT}^2}{\\longrightarrow} \\mathbb{R}^4 \\times\\mathbb{R}^4 \\times\\mathbb{R}^4 \\times\\mathbb{R}^4  \\underset{\\mathcal{LTT}^3}{\\longrightarrow}  \\mathbb{R}^2 \\times\\mathbb{R}^4 \\times\\mathbb{R}^2 \\times\\mathbb{R}^4 \\underset{\\mathcal{L}^4}{\\longrightarrow} \\mathbb{R}^{10}$"
   ]
  },
  {
   "cell_type": "code",
   "execution_count": null,
   "metadata": {},
   "outputs": [],
   "source": [
    "class BasicTT(nn.Module):\n",
    "    def __init__(self):\n",
    "        super().__init__()\n",
    "        self.ttl1 = tntt.nn.LinearLayerTT([16,16,16,16], [8,8,8,8], [1,3,3,3,1])\n",
    "        self.ttl2 = tntt.nn.LinearLayerTT([8,8,8,8], [4,4,4,4], [1,2,2,2,1])\n",
    "        self.ttl3 = tntt.nn.LinearLayerTT([4,4,4,4], [2,4,2,4], [1,2,2,2,1])\n",
    "        self.linear = nn.Linear(64, 10, dtype = tn.float32)\n",
    "\n",
    "    def forward(self, x):\n",
    "        x = self.ttl1(x)\n",
    "        x = tn.relu(x)\n",
    "        x = self.ttl2(x)\n",
    "        x = tn.relu(x)\n",
    "        x = self.ttl3(x)\n",
    "        x = tn.relu(x)\n",
    "        x = tn.reshape(x,[-1,64])\n",
    "        return self.linear(x)"
   ]
  },
  {
   "cell_type": "markdown",
   "metadata": {},
   "source": []
  },
  {
   "cell_type": "code",
   "execution_count": null,
   "metadata": {},
   "outputs": [],
   "source": [
    "model = BasicTT()\n",
    "print('Number of trainable parameters:', len(list(model.parameters())))"
   ]
  },
  {
   "cell_type": "markdown",
   "metadata": {},
   "source": []
  },
  {
   "cell_type": "code",
   "execution_count": null,
   "metadata": {},
   "outputs": [],
   "source": [
    "input = tn.rand((16,16,16,16), dtype = tn.float32)\n",
    "pred = model.forward(input)\n",
    "\n",
    "input_batch = tn.rand((1000,16,16,16,16), dtype = tn.float32)\n",
    "label_batch = tn.rand((1000,10), dtype = tn.float32)\n",
    "%time pred = model.forward(input_batch)"
   ]
  },
  {
   "cell_type": "markdown",
   "metadata": {},
   "source": []
  },
  {
   "cell_type": "code",
   "execution_count": null,
   "metadata": {},
   "outputs": [],
   "source": [
    "# if tn.cuda.is_available():\n",
    "#     model_gpu = model.cuda()\n",
    "#     input_batch_gpu = input_batch.cuda()\n",
    "# \n",
    "#     %time pred = model_gpu.forward(input_batch_gpu+2)\n",
    "#     print(pred.device)"
   ]
  },
  {
   "cell_type": "code",
   "execution_count": null,
   "metadata": {},
   "outputs": [],
   "source": [
    "criterion = nn.CrossEntropyLoss()\n",
    "optimizer = tn.optim.SGD(model.parameters(), lr=0.0000001, momentum=0.9)"
   ]
  },
  {
   "cell_type": "markdown",
   "metadata": {},
   "source": []
  },
  {
   "cell_type": "code",
   "execution_count": null,
   "metadata": {},
   "outputs": [],
   "source": [
    "for epoch in range(10):  \n",
    "\n",
    "    optimizer.zero_grad()\n",
    "\n",
    "    outputs = model(input_batch)\n",
    "    loss = criterion(outputs, label_batch)\n",
    "    loss.backward()\n",
    "    optimizer.step()\n",
    "\n",
    "    # print statistics\n",
    "    print('Epoch %d, loss %e'%(epoch+1,loss.item()))\n",
    "\n",
    "\n",
    "print('Finished Training')"
   ]
  },
  {
   "cell_type": "code",
   "execution_count": null,
   "metadata": {},
   "outputs": [],
   "source": [
    "model\n"
   ]
  }
 ],
 "metadata": {
  "interpreter": {
   "hash": "df6fc3a9b7a9c6f4b0308ab6eb361a4cabbf6b5db181383d07014ff4304e5cb3"
  },
  "kernelspec": {
   "display_name": "Python 3.9.7 64-bit ('pytorch': conda)",
   "language": "python",
   "name": "python3"
  },
  "language_info": {
   "codemirror_mode": {
    "name": "ipython",
    "version": 3
   },
   "file_extension": ".py",
   "mimetype": "text/x-python",
   "name": "python",
   "nbconvert_exporter": "python",
   "pygments_lexer": "ipython3",
   "version": "3.9.7"
  },
  "orig_nbformat": 4
 },
 "nbformat": 4,
 "nbformat_minor": 2
}
