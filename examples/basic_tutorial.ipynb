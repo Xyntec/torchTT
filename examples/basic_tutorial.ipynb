{
 "cells": [
  {
   "cell_type": "markdown",
   "metadata": {},
   "source": [
    "# TT decomposition in torchtt\n",
    "\n",
    "This notebook \n",
    "\n",
    "\n",
    "Imports"
   ]
  },
  {
   "cell_type": "code",
   "execution_count": null,
   "metadata": {},
   "outputs": [],
   "source": [
    "import torch as tn\n",
    "try: \n",
    "    import torchtt as tntt\n",
    "except:\n",
    "    # pip install\n",
    "    pass"
   ]
  },
  {
   "cell_type": "markdown",
   "metadata": {},
   "source": [
    "### Decomposition of a full tensor in TT format"
   ]
  },
  {
   "cell_type": "markdown",
   "metadata": {},
   "source": [
    "We now create a 4d torch.tensor which we will use later"
   ]
  },
  {
   "cell_type": "code",
   "execution_count": null,
   "metadata": {},
   "outputs": [],
   "source": [
    "tens_full = tn.reshape(tn.arange(32*16*8*10, dtype = tn.float64),[32,16,8,10])"
   ]
  },
  {
   "cell_type": "markdown",
   "metadata": {},
   "source": [
    "The TT approximation of a given tensor is \n",
    "$\\mathsf{x}_{i_1i_2...i_d} \\approx \\sum\\limits_{r_1,...,r_{d-1}=1}^{R_1,...,R_{d-1}} \\mathsf{g}^{(1)}$"
   ]
  },
  {
   "cell_type": "code",
   "execution_count": null,
   "metadata": {},
   "outputs": [],
   "source": [
    "tens_tt = tntt.TT(tens_full)"
   ]
  },
  {
   "cell_type": "markdown",
   "metadata": {},
   "source": [
    "The original tensor can be recovered using the `torchtt.TT.full()` method (also check if it equals the original full tensor):"
   ]
  },
  {
   "cell_type": "code",
   "execution_count": null,
   "metadata": {},
   "outputs": [],
   "source": [
    "tens_full_rec = tens_tt.full()\n",
    "print(tn.linalg.norm(tens_full-tens_full_rec)/tn.linalg.norm(tens_full))"
   ]
  },
  {
   "cell_type": "markdown",
   "metadata": {},
   "source": [
    "Using the print function, information about the newly created torchtt.TT instance can be displayed:"
   ]
  },
  {
   "cell_type": "code",
   "execution_count": null,
   "metadata": {},
   "outputs": [],
   "source": [
    "print(tens_tt)"
   ]
  },
  {
   "cell_type": "markdown",
   "metadata": {},
   "source": [
    "Slicing operation can be performed on a tensor in TT format. If all the dimensions are indexed with an integer and the multiindices are valid, a torch.tensor with the corresponding value is returned. Slices can be also used, however the returned object in this case is again a torchtt.TT instance."
   ]
  },
  {
   "cell_type": "code",
   "execution_count": null,
   "metadata": {},
   "outputs": [],
   "source": [
    "print(tens_tt[1,2,3,4])\n",
    "print(tens_tt[1,1:4,2,:])"
   ]
  },
  {
   "cell_type": "markdown",
   "metadata": {},
   "source": [
    "### TT rank rounding\n",
    "\n",
    "In some cases the TT rank becomes too large and a reduction is desired. The goal is to perform a reduction of the rank while maintaining an accuracy.\n",
    "The problem statement of the rounding operation is: given a tensor $\\mathsf{x}$ in the TT format with the TT rank $\\mathbf{R}$ and an $\\epsilon>0$, find a tensor $\\tilde{\\mathsf{x}}$ with TT rank $\\tilde{\\mathbf{R}}\\leq \\mathbf{R}$ such that $ ||\\mathsf{x}-\\tilde{\\mathsf{x}}||_F\\leq \\epsilon || \\mathsf{x} ||_F$.\n",
    "This is implemented using the member method of a TT object `torchtt.TT.round()`. The argument `epsilon` is passed to the function as well as the optional argument `rmax` which also restricts the rank of the rounding.\n",
    "\n",
    "We will create a tensor of TT rank $(1,6,6,6,1)$"
   ]
  },
  {
   "cell_type": "code",
   "execution_count": null,
   "metadata": {},
   "outputs": [],
   "source": [
    "t1 = tntt.randn([10,20,30,40],[1,2,2,2,1])\n",
    "t2 = tntt.randn([10,20,30,40],[1,2,2,2,1])\n",
    "t3 = tntt.randn([10,20,30,40],[1,2,2,2,1])\n",
    "t1, t2, t3 = t1/t1.norm(), t2/t2.norm(), t3/t3.norm()\n",
    "t = t1+1e-3*t2+1e-6*t3\n",
    "t_full = t.full()\n",
    "print(t)"
   ]
  },
  {
   "cell_type": "markdown",
   "metadata": {},
   "source": []
  }
 ],
 "metadata": {
  "interpreter": {
   "hash": "df6fc3a9b7a9c6f4b0308ab6eb361a4cabbf6b5db181383d07014ff4304e5cb3"
  },
  "kernelspec": {
   "display_name": "Python 3.9.7 64-bit ('pytorch': conda)",
   "language": "python",
   "name": "python3"
  },
  "language_info": {
   "codemirror_mode": {
    "name": "ipython",
    "version": 3
   },
   "file_extension": ".py",
   "mimetype": "text/x-python",
   "name": "python",
   "nbconvert_exporter": "python",
   "pygments_lexer": "ipython3",
   "version": "3.9.7"
  },
  "orig_nbformat": 4
 },
 "nbformat": 4,
 "nbformat_minor": 2
}
