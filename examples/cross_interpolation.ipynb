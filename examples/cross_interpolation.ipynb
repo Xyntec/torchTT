{
 "cells": [
  {
   "cell_type": "markdown",
   "metadata": {},
   "source": [
    "<font size=\"5\">Cross approximation in the TT format</font>\n",
    "\n",
    "Using the torchtt.TT constructor, a TT decomposition of a given tensor can be obtained. However, in the cases where the entries of the tensor are computed using a given function, building full tensors becomes unfeasible. It is possible to "
   ]
  },
  {
   "cell_type": "markdown",
   "metadata": {},
   "source": [
    "Imports:"
   ]
  },
  {
   "cell_type": "code",
   "execution_count": null,
   "metadata": {},
   "outputs": [],
   "source": [
    "import torch as tn\n",
    "import torchtt as tntt \n",
    "import torchtt.interpolate "
   ]
  },
  {
   "cell_type": "markdown",
   "metadata": {},
   "source": [
    "We want to approximate the tensor $\\mathsf{x}_{i_1...i_d}=\\frac{1}{2+i_1+\\cdots+i_d}$. Since the passed indices are integers of type torch.int64, casting is used."
   ]
  },
  {
   "cell_type": "code",
   "execution_count": null,
   "metadata": {},
   "outputs": [],
   "source": [
    "func1 = lambda I: 1/(2+tn.sum(I+1,1).to(dtype=tn.float64))"
   ]
  },
  {
   "cell_type": "markdown",
   "metadata": {},
   "source": [
    "Call the torchtt.interpolate.dmrg_cross() method."
   ]
  },
  {
   "cell_type": "code",
   "execution_count": null,
   "metadata": {},
   "outputs": [],
   "source": [
    "N = [20]*4\n",
    "x = tntt.interpolate.dmrg_cross(func1, N, eps = 1e-7)"
   ]
  },
  {
   "cell_type": "markdown",
   "metadata": {},
   "source": [
    "Compute the full tensor and compare to the reference."
   ]
  },
  {
   "cell_type": "code",
   "execution_count": null,
   "metadata": {},
   "outputs": [],
   "source": [
    "Is = tntt.meshgrid([tn.arange(0,n,dtype=tn.float64) for n in N])\n",
    "x_ref = 1/(2+Is[0].full()+Is[1].full()+Is[2].full()+Is[3].full()+Is[4].full()+Is[5].full())\n",
    "print('Relative error ',tn.linalg.norm(x.full()-x_ref)/tn.linalg.norm(x_ref))"
   ]
  },
  {
   "cell_type": "markdown",
   "metadata": {},
   "source": [
    "We consider the case $d=10$, $n_i=32$. "
   ]
  },
  {
   "cell_type": "code",
   "execution_count": null,
   "metadata": {},
   "outputs": [],
   "source": [
    "N = [32]*10\n",
    "x = tntt.interpolate.dmrg_cross(func1, N, eps = 1e-10)"
   ]
  }
 ],
 "metadata": {
  "interpreter": {
   "hash": "df6fc3a9b7a9c6f4b0308ab6eb361a4cabbf6b5db181383d07014ff4304e5cb3"
  },
  "kernelspec": {
   "display_name": "Python 3.9.7 64-bit ('pytorch': conda)",
   "language": "python",
   "name": "python3"
  },
  "language_info": {
   "name": "python",
   "version": "3.9.7"
  },
  "orig_nbformat": 4
 },
 "nbformat": 4,
 "nbformat_minor": 2
}
