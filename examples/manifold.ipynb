{
 "cells": [
  {
   "cell_type": "code",
   "execution_count": null,
   "metadata": {},
   "outputs": [],
   "source": [
    "import torch as tn\n",
    "try:\n",
    "    import torchtt as tntt\n",
    "except:\n",
    "    print('Installing torchTT...')\n",
    "    %pip install git+https://github.com/ion-g-ion/torchTT"
   ]
  },
  {
   "cell_type": "code",
   "execution_count": null,
   "metadata": {},
   "outputs": [],
   "source": [
    "N = [10,11,12,13,14]\n",
    "Rt = [1,3,4,5,6,1]\n",
    "Rx = [1,6,6,6,6,1]\n",
    "target = tntt.randn(N,Rt).round(0)\n",
    "func = lambda x: 0.5*(x-target).norm(True)"
   ]
  },
  {
   "cell_type": "code",
   "execution_count": null,
   "metadata": {},
   "outputs": [],
   "source": [
    "x0 = tntt.randn(N,Rx)\n",
    "x =x0.clone()\n",
    "for i in range(20):\n",
    "    # compute riemannian gradient using AD    \n",
    "    gr = tntt.manifold.riemannian_gradient(x,func)\n",
    "    \n",
    "    #stepsize length\n",
    "    alpha = 1.0\n",
    "    \n",
    "    # update step\n",
    "    x = (x-alpha*gr).round(0,Rx)    \n",
    "    print('Value ' , func(x).numpy())"
   ]
  },
  {
   "cell_type": "markdown",
   "metadata": {},
   "source": [
    "As a comparison, conventional gradient descent with respect to the TT cores is performed:"
   ]
  },
  {
   "cell_type": "code",
   "execution_count": null,
   "metadata": {},
   "outputs": [],
   "source": [
    "y = x0.detach().clone()\n",
    "\n",
    "for i in range(10000):\n",
    "    tntt.grad.watch(y)\n",
    "    fval = func(y)\n",
    "    deriv = tntt.grad.grad(fval,y)    \n",
    "    alpha = 0.00001 # for stability\n",
    "    y = tntt.TT([y.cores[i].detach()-alpha*deriv[i] for i in range(len(deriv))])\n",
    "    if (i+1)%500 == 0: print(func(y))\n",
    "    "
   ]
  },
  {
   "cell_type": "markdown",
   "metadata": {},
   "source": [
    "### Manifold tensor completion\n",
    "\n",
    "One other task where the manifold learning can be applied is tensor completion.\n",
    "The goal for this problem is to reconstruct a tensor in the TT format given only a few entries (possible noisy)."
   ]
  }
 ],
 "metadata": {
  "interpreter": {
   "hash": "df6fc3a9b7a9c6f4b0308ab6eb361a4cabbf6b5db181383d07014ff4304e5cb3"
  },
  "kernelspec": {
   "display_name": "Python 3.9.7 64-bit ('pytorch': conda)",
   "language": "python",
   "name": "python3"
  },
  "language_info": {
   "codemirror_mode": {
    "name": "ipython",
    "version": 3
   },
   "file_extension": ".py",
   "mimetype": "text/x-python",
   "name": "python",
   "nbconvert_exporter": "python",
   "pygments_lexer": "ipython3",
   "version": "3.8.8"
  },
  "orig_nbformat": 4
 },
 "nbformat": 4,
 "nbformat_minor": 2
}
